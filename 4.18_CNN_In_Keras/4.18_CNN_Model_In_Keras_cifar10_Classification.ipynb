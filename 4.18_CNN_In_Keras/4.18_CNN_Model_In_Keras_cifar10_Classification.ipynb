{
 "cells": [
  {
   "cell_type": "markdown",
   "metadata": {},
   "source": [
    "# 1. Load CIFAR - 10 database"
   ]
  },
  {
   "cell_type": "code",
   "execution_count": 1,
   "metadata": {},
   "outputs": [
    {
     "name": "stderr",
     "output_type": "stream",
     "text": [
      "Using TensorFlow backend.\n"
     ]
    }
   ],
   "source": [
    "import keras\n",
    "from keras.datasets import cifar10"
   ]
  },
  {
   "cell_type": "code",
   "execution_count": 33,
   "metadata": {},
   "outputs": [],
   "source": [
    "(x_train, y_train), (x_test, y_test) = cifar10.load_data()"
   ]
  },
  {
   "cell_type": "code",
   "execution_count": 34,
   "metadata": {},
   "outputs": [],
   "source": [
    "import numpy as np\n",
    "import matplotlib.pyplot as plt\n",
    "%matplotlib inline"
   ]
  },
  {
   "cell_type": "markdown",
   "metadata": {},
   "source": [
    "# 2. Visualize the first 36 training images"
   ]
  },
  {
   "cell_type": "code",
   "execution_count": 35,
   "metadata": {},
   "outputs": [
    {
     "data": {
      "image/png": "[encoded data removed]",
      "text/plain": [
       "<Figure size 1440x360 with 36 Axes>"
      ]
     },
     "metadata": {},
     "output_type": "display_data"
    }
   ],
   "source": [
    "fig = plt.figure(figsize=(20,5))\n",
    "for i in range(36):\n",
    "    ax = fig.add_subplot(3,12, i + 1, xticks=[],yticks=[])"
   ]
  },
  {
   "cell_type": "markdown",
   "metadata": {},
   "source": [
    "# 3. Rescale the images by dividing every pixel in every image by 255"
   ]
  },
  {
   "cell_type": "code",
   "execution_count": 36,
   "metadata": {},
   "outputs": [],
   "source": [
    "# rescale [0,255] --> [0,1]\n",
    "x_train = x_train.astype('float32')/255\n",
    "x_test = x_test.astype('float32')/255"
   ]
  },
  {
   "cell_type": "code",
   "execution_count": 37,
   "metadata": {},
   "outputs": [
    {
     "data": {
      "text/plain": [
       "array([[[[0.61960787, 0.4392157 , 0.19215687],\n",
       "         [0.62352943, 0.43529412, 0.18431373],\n",
       "         [0.64705884, 0.45490196, 0.2       ],\n",
       "         ...,\n",
       "         [0.5372549 , 0.37254903, 0.14117648],\n",
       "         [0.49411765, 0.35686275, 0.14117648],\n",
       "         [0.45490196, 0.33333334, 0.12941177]],\n",
       "\n",
       "        [[0.59607846, 0.4392157 , 0.2       ],\n",
       "         [0.5921569 , 0.43137255, 0.15686275],\n",
       "         [0.62352943, 0.44705883, 0.1764706 ],\n",
       "         ...,\n",
       "         [0.53333336, 0.37254903, 0.12156863],\n",
       "         [0.49019608, 0.35686275, 0.1254902 ],\n",
       "         [0.46666667, 0.34509805, 0.13333334]],\n",
       "\n",
       "        [[0.5921569 , 0.43137255, 0.18431373],\n",
       "         [0.5921569 , 0.42745098, 0.12941177],\n",
       "         [0.61960787, 0.43529412, 0.14117648],\n",
       "         ...,\n",
       "         [0.54509807, 0.38431373, 0.13333334],\n",
       "         [0.50980395, 0.37254903, 0.13333334],\n",
       "         [0.47058824, 0.34901962, 0.12941177]],\n",
       "\n",
       "        ...,\n",
       "\n",
       "        [[0.26666668, 0.4862745 , 0.69411767],\n",
       "         [0.16470589, 0.39215687, 0.5803922 ],\n",
       "         [0.12156863, 0.34509805, 0.5372549 ],\n",
       "         ...,\n",
       "         [0.14901961, 0.38039216, 0.57254905],\n",
       "         [0.05098039, 0.2509804 , 0.42352942],\n",
       "         [0.15686275, 0.33333334, 0.49803922]],\n",
       "\n",
       "        [[0.23921569, 0.45490196, 0.65882355],\n",
       "         [0.19215687, 0.4       , 0.5803922 ],\n",
       "         [0.13725491, 0.33333334, 0.5176471 ],\n",
       "         ...,\n",
       "         [0.10196079, 0.32156864, 0.50980395],\n",
       "         [0.11372549, 0.32156864, 0.49411765],\n",
       "         [0.07843138, 0.2509804 , 0.41960785]],\n",
       "\n",
       "        [[0.21176471, 0.41960785, 0.627451  ],\n",
       "         [0.21960784, 0.4117647 , 0.58431375],\n",
       "         [0.1764706 , 0.34901962, 0.5176471 ],\n",
       "         ...,\n",
       "         [0.09411765, 0.3019608 , 0.4862745 ],\n",
       "         [0.13333334, 0.32941177, 0.5058824 ],\n",
       "         [0.08235294, 0.2627451 , 0.43137255]]],\n",
       "\n",
       "\n",
       "       [[[0.92156863, 0.92156863, 0.92156863],\n",
       "         [0.90588236, 0.90588236, 0.90588236],\n",
       "         [0.9098039 , 0.9098039 , 0.9098039 ],\n",
       "         ...,\n",
       "         [0.9137255 , 0.9137255 , 0.9137255 ],\n",
       "         [0.9137255 , 0.9137255 , 0.9137255 ],\n",
       "         [0.9098039 , 0.9098039 , 0.9098039 ]],\n",
       "\n",
       "        [[0.93333334, 0.93333334, 0.93333334],\n",
       "         [0.92156863, 0.92156863, 0.92156863],\n",
       "         [0.92156863, 0.92156863, 0.92156863],\n",
       "         ...,\n",
       "         [0.9254902 , 0.9254902 , 0.9254902 ],\n",
       "         [0.9254902 , 0.9254902 , 0.9254902 ],\n",
       "         [0.92156863, 0.92156863, 0.92156863]],\n",
       "\n",
       "        [[0.92941177, 0.92941177, 0.92941177],\n",
       "         [0.91764706, 0.91764706, 0.91764706],\n",
       "         [0.91764706, 0.91764706, 0.91764706],\n",
       "         ...,\n",
       "         [0.92156863, 0.92156863, 0.92156863],\n",
       "         [0.92156863, 0.92156863, 0.92156863],\n",
       "         [0.91764706, 0.91764706, 0.91764706]],\n",
       "\n",
       "        ...,\n",
       "\n",
       "        [[0.34117648, 0.3882353 , 0.34901962],\n",
       "         [0.16862746, 0.2       , 0.14509805],\n",
       "         [0.07450981, 0.09019608, 0.04313726],\n",
       "         ...,\n",
       "         [0.6627451 , 0.72156864, 0.7019608 ],\n",
       "         [0.7137255 , 0.77254903, 0.75686276],\n",
       "         [0.7372549 , 0.7921569 , 0.7882353 ]],\n",
       "\n",
       "        [[0.32156864, 0.3764706 , 0.32156864],\n",
       "         [0.18039216, 0.22352941, 0.14117648],\n",
       "         [0.14117648, 0.17254902, 0.08627451],\n",
       "         ...,\n",
       "         [0.68235296, 0.7411765 , 0.7176471 ],\n",
       "         [0.7254902 , 0.78431374, 0.76862746],\n",
       "         [0.73333335, 0.7921569 , 0.78431374]],\n",
       "\n",
       "        [[0.33333334, 0.39607844, 0.3254902 ],\n",
       "         [0.24313726, 0.29411766, 0.1882353 ],\n",
       "         [0.22745098, 0.2627451 , 0.14901961],\n",
       "         ...,\n",
       "         [0.65882355, 0.7176471 , 0.69803923],\n",
       "         [0.7058824 , 0.7647059 , 0.7490196 ],\n",
       "         [0.7294118 , 0.78431374, 0.78039217]]],\n",
       "\n",
       "\n",
       "       [[[0.61960787, 0.74509805, 0.87058824],\n",
       "         [0.61960787, 0.73333335, 0.85490197],\n",
       "         [0.54509807, 0.6509804 , 0.7607843 ],\n",
       "         ...,\n",
       "         [0.89411765, 0.90588236, 0.91764706],\n",
       "         [0.92941177, 0.9372549 , 0.9529412 ],\n",
       "         [0.93333334, 0.94509804, 0.9647059 ]],\n",
       "\n",
       "        [[0.6666667 , 0.78431374, 0.8980392 ],\n",
       "         [0.6745098 , 0.78039217, 0.8862745 ],\n",
       "         [0.5921569 , 0.6901961 , 0.7882353 ],\n",
       "         ...,\n",
       "         [0.9098039 , 0.9098039 , 0.9254902 ],\n",
       "         [0.9647059 , 0.9647059 , 0.98039216],\n",
       "         [0.9647059 , 0.96862745, 0.9843137 ]],\n",
       "\n",
       "        [[0.68235296, 0.7882353 , 0.88235295],\n",
       "         [0.6901961 , 0.78431374, 0.87058824],\n",
       "         [0.6156863 , 0.7019608 , 0.78039217],\n",
       "         ...,\n",
       "         [0.9019608 , 0.8980392 , 0.9098039 ],\n",
       "         [0.98039216, 0.9764706 , 0.9843137 ],\n",
       "         [0.9607843 , 0.95686275, 0.96862745]],\n",
       "\n",
       "        ...,\n",
       "\n",
       "        [[0.12156863, 0.15686275, 0.1764706 ],\n",
       "         [0.11764706, 0.15294118, 0.17254902],\n",
       "         [0.10196079, 0.13725491, 0.15686275],\n",
       "         ...,\n",
       "         [0.14509805, 0.15686275, 0.18039216],\n",
       "         [0.03529412, 0.05098039, 0.05490196],\n",
       "         [0.01568628, 0.02745098, 0.01960784]],\n",
       "\n",
       "        [[0.09019608, 0.13333334, 0.15294118],\n",
       "         [0.10588235, 0.14901961, 0.16862746],\n",
       "         [0.09803922, 0.14117648, 0.16078432],\n",
       "         ...,\n",
       "         [0.07450981, 0.07843138, 0.09411765],\n",
       "         [0.01568628, 0.02352941, 0.01176471],\n",
       "         [0.01960784, 0.02745098, 0.01176471]],\n",
       "\n",
       "        [[0.10980392, 0.16078432, 0.18431373],\n",
       "         [0.11764706, 0.16862746, 0.19607843],\n",
       "         [0.1254902 , 0.1764706 , 0.20392157],\n",
       "         ...,\n",
       "         [0.01960784, 0.02352941, 0.03137255],\n",
       "         [0.01568628, 0.01960784, 0.01176471],\n",
       "         [0.02745098, 0.03137255, 0.02745098]]],\n",
       "\n",
       "\n",
       "       ...,\n",
       "\n",
       "\n",
       "       [[[0.07843138, 0.05882353, 0.04705882],\n",
       "         [0.07450981, 0.05490196, 0.04313726],\n",
       "         [0.05882353, 0.05490196, 0.04313726],\n",
       "         ...,\n",
       "         [0.03921569, 0.03529412, 0.02745098],\n",
       "         [0.04705882, 0.04313726, 0.03529412],\n",
       "         [0.05098039, 0.04705882, 0.03921569]],\n",
       "\n",
       "        [[0.08235294, 0.0627451 , 0.05098039],\n",
       "         [0.07843138, 0.0627451 , 0.05098039],\n",
       "         [0.07058824, 0.06666667, 0.04705882],\n",
       "         ...,\n",
       "         [0.03921569, 0.03529412, 0.02745098],\n",
       "         [0.03921569, 0.03529412, 0.02745098],\n",
       "         [0.04705882, 0.04313726, 0.03529412]],\n",
       "\n",
       "        [[0.08235294, 0.0627451 , 0.05098039],\n",
       "         [0.08235294, 0.06666667, 0.04705882],\n",
       "         [0.07843138, 0.07058824, 0.04313726],\n",
       "         ...,\n",
       "         [0.04705882, 0.04313726, 0.03529412],\n",
       "         [0.04705882, 0.04313726, 0.03529412],\n",
       "         [0.05098039, 0.04705882, 0.03921569]],\n",
       "\n",
       "        ...,\n",
       "\n",
       "        [[0.12941177, 0.09803922, 0.05098039],\n",
       "         [0.13333334, 0.10196079, 0.05882353],\n",
       "         [0.13333334, 0.10196079, 0.05882353],\n",
       "         ...,\n",
       "         [0.10980392, 0.09803922, 0.20392157],\n",
       "         [0.11372549, 0.09803922, 0.22745098],\n",
       "         [0.09019608, 0.07843138, 0.16470589]],\n",
       "\n",
       "        [[0.12941177, 0.09803922, 0.05490196],\n",
       "         [0.13333334, 0.10196079, 0.05882353],\n",
       "         [0.13333334, 0.10196079, 0.05882353],\n",
       "         ...,\n",
       "         [0.10588235, 0.09411765, 0.20392157],\n",
       "         [0.10588235, 0.09411765, 0.21960784],\n",
       "         [0.09803922, 0.08627451, 0.18431373]],\n",
       "\n",
       "        [[0.12156863, 0.09019608, 0.04705882],\n",
       "         [0.1254902 , 0.09411765, 0.05098039],\n",
       "         [0.12941177, 0.09803922, 0.05490196],\n",
       "         ...,\n",
       "         [0.09411765, 0.09019608, 0.19607843],\n",
       "         [0.10196079, 0.09019608, 0.20784314],\n",
       "         [0.09803922, 0.07843138, 0.18431373]]],\n",
       "\n",
       "\n",
       "       [[[0.09803922, 0.15686275, 0.04705882],\n",
       "         [0.05882353, 0.14117648, 0.01176471],\n",
       "         [0.09019608, 0.16078432, 0.07058824],\n",
       "         ...,\n",
       "         [0.23921569, 0.32156864, 0.30588236],\n",
       "         [0.36078432, 0.44313726, 0.4392157 ],\n",
       "         [0.29411766, 0.34901962, 0.36078432]],\n",
       "\n",
       "        [[0.04705882, 0.09803922, 0.02352941],\n",
       "         [0.07843138, 0.14509805, 0.02745098],\n",
       "         [0.09411765, 0.14117648, 0.05882353],\n",
       "         ...,\n",
       "         [0.4509804 , 0.5254902 , 0.5411765 ],\n",
       "         [0.58431375, 0.65882355, 0.69411767],\n",
       "         [0.40784314, 0.45882353, 0.5137255 ]],\n",
       "\n",
       "        [[0.04705882, 0.09803922, 0.04313726],\n",
       "         [0.05882353, 0.11372549, 0.02352941],\n",
       "         [0.13333334, 0.15686275, 0.09411765],\n",
       "         ...,\n",
       "         [0.6039216 , 0.6745098 , 0.7137255 ],\n",
       "         [0.6156863 , 0.6862745 , 0.7529412 ],\n",
       "         [0.45490196, 0.5058824 , 0.5921569 ]],\n",
       "\n",
       "        ...,\n",
       "\n",
       "        [[0.39215687, 0.5058824 , 0.31764707],\n",
       "         [0.40392157, 0.5176471 , 0.32941177],\n",
       "         [0.40784314, 0.5254902 , 0.3372549 ],\n",
       "         ...,\n",
       "         [0.38039216, 0.5019608 , 0.32941177],\n",
       "         [0.38431373, 0.49411765, 0.32941177],\n",
       "         [0.35686275, 0.4745098 , 0.30980393]],\n",
       "\n",
       "        [[0.40392157, 0.5176471 , 0.3254902 ],\n",
       "         [0.40784314, 0.5137255 , 0.3254902 ],\n",
       "         [0.41960785, 0.5294118 , 0.34117648],\n",
       "         ...,\n",
       "         [0.39607844, 0.5176471 , 0.34117648],\n",
       "         [0.3882353 , 0.49803922, 0.32941177],\n",
       "         [0.36078432, 0.4745098 , 0.30980393]],\n",
       "\n",
       "        [[0.37254903, 0.49411765, 0.30588236],\n",
       "         [0.37254903, 0.48235294, 0.29803923],\n",
       "         [0.39607844, 0.5019608 , 0.31764707],\n",
       "         ...,\n",
       "         [0.3647059 , 0.4862745 , 0.3137255 ],\n",
       "         [0.37254903, 0.48235294, 0.31764707],\n",
       "         [0.36078432, 0.47058824, 0.3137255 ]]],\n",
       "\n",
       "\n",
       "       [[[0.28627452, 0.30588236, 0.29411766],\n",
       "         [0.38431373, 0.40392157, 0.44313726],\n",
       "         [0.3882353 , 0.41568628, 0.44705883],\n",
       "         ...,\n",
       "         [0.5294118 , 0.5882353 , 0.59607846],\n",
       "         [0.5294118 , 0.58431375, 0.6039216 ],\n",
       "         [0.79607844, 0.84313726, 0.8745098 ]],\n",
       "\n",
       "        [[0.27058825, 0.28627452, 0.27450982],\n",
       "         [0.32941177, 0.34901962, 0.38039216],\n",
       "         [0.26666668, 0.29411766, 0.31764707],\n",
       "         ...,\n",
       "         [0.33333334, 0.37254903, 0.34901962],\n",
       "         [0.2784314 , 0.32156864, 0.3137255 ],\n",
       "         [0.47058824, 0.52156866, 0.5294118 ]],\n",
       "\n",
       "        [[0.27058825, 0.28627452, 0.27450982],\n",
       "         [0.3529412 , 0.37254903, 0.39215687],\n",
       "         [0.24313726, 0.2784314 , 0.2901961 ],\n",
       "         ...,\n",
       "         [0.2901961 , 0.31764707, 0.27450982],\n",
       "         [0.20784314, 0.24313726, 0.21176471],\n",
       "         [0.24313726, 0.2901961 , 0.27058825]],\n",
       "\n",
       "        ...,\n",
       "\n",
       "        [[0.48235294, 0.5019608 , 0.3764706 ],\n",
       "         [0.5176471 , 0.5176471 , 0.4       ],\n",
       "         [0.5058824 , 0.5019608 , 0.39215687],\n",
       "         ...,\n",
       "         [0.42352942, 0.41960785, 0.34509805],\n",
       "         [0.24313726, 0.23529412, 0.21568628],\n",
       "         [0.10588235, 0.10588235, 0.10980392]],\n",
       "\n",
       "        [[0.4509804 , 0.4745098 , 0.35686275],\n",
       "         [0.48235294, 0.4862745 , 0.37254903],\n",
       "         [0.5058824 , 0.49411765, 0.3882353 ],\n",
       "         ...,\n",
       "         [0.4509804 , 0.45490196, 0.36862746],\n",
       "         [0.25882354, 0.25490198, 0.23137255],\n",
       "         [0.10588235, 0.10588235, 0.10588235]],\n",
       "\n",
       "        [[0.45490196, 0.47058824, 0.3529412 ],\n",
       "         [0.4745098 , 0.47843137, 0.36862746],\n",
       "         [0.5058824 , 0.5019608 , 0.39607844],\n",
       "         ...,\n",
       "         [0.45490196, 0.4509804 , 0.36862746],\n",
       "         [0.26666668, 0.25490198, 0.22745098],\n",
       "         [0.10588235, 0.10196079, 0.10196079]]]], dtype=float32)"
      ]
     },
     "execution_count": 37,
     "metadata": {},
     "output_type": "execute_result"
    }
   ],
   "source": [
    "x_test"
   ]
  },
  {
   "cell_type": "markdown",
   "metadata": {},
   "source": [
    "# 4. Break dataset into Training,  Testing, Validation sets"
   ]
  },
  {
   "cell_type": "code",
   "execution_count": 38,
   "metadata": {},
   "outputs": [],
   "source": [
    "from keras.utils import np_utils\n",
    "# one-hot encode the labels\n",
    "num_classes = len(np.unique(y_train))\n",
    "y_train = keras.utils.to_categorical(y_train, num_classes)\n",
    "y_test = keras.utils.to_categorical(y_test, num_classes)"
   ]
  },
  {
   "cell_type": "code",
   "execution_count": 39,
   "metadata": {},
   "outputs": [],
   "source": [
    "# break training set into training and validation set\n",
    "(x_train, x_valid) = x_train[5000:],x_train[:5000]\n",
    "(y_train, y_valid) = y_train[5000:],y_train[:5000]"
   ]
  },
  {
   "cell_type": "code",
   "execution_count": 30,
   "metadata": {},
   "outputs": [
    {
     "name": "stdout",
     "output_type": "stream",
     "text": [
      "x_train shape =  (45000, 32, 32, 3)\n"
     ]
    }
   ],
   "source": [
    "# print shape of traning sets \n",
    "print('x_train shape = ', x_train.shape)"
   ]
  },
  {
   "cell_type": "code",
   "execution_count": 31,
   "metadata": {},
   "outputs": [
    {
     "name": "stdout",
     "output_type": "stream",
     "text": [
      "x_test shape =  (10000, 1)\n"
     ]
    }
   ],
   "source": [
    "# print shape of traning sets \n",
    "print('x_test shape = ', x_test.shape)"
   ]
  },
  {
   "cell_type": "code",
   "execution_count": 40,
   "metadata": {
    "scrolled": true
   },
   "outputs": [
    {
     "name": "stdout",
     "output_type": "stream",
     "text": [
      "45000 train samples\n",
      "10000 test samples\n",
      "5000 valid samples\n"
     ]
    }
   ],
   "source": [
    "# print number of training, validation and test images\n",
    "print(x_train.shape[0], 'train samples')\n",
    "print(x_test.shape[0], 'test samples')\n",
    "print(x_valid.shape[0], 'valid samples')"
   ]
  },
  {
   "cell_type": "markdown",
   "metadata": {},
   "source": [
    "# 5. Data Augmentation - Create and configure augmented image generator"
   ]
  },
  {
   "cell_type": "code",
   "execution_count": 43,
   "metadata": {},
   "outputs": [],
   "source": [
    "from keras.preprocessing.image import ImageDataGenerator"
   ]
  },
  {
   "cell_type": "code",
   "execution_count": 44,
   "metadata": {},
   "outputs": [],
   "source": [
    "# create and configure augmented image generator\n",
    "datagen = ImageDataGenerator(\n",
    "    width_shift_range=0.1, # randomly shift images horizontally (10%)\n",
    "    height_shift_range=0.1, # randomly shift images vertically (10%)\n",
    "    horizontal_flip=True  # randomly flip images horizontally\n",
    ")\n",
    "datagen.fit(x_train)"
   ]
  },
  {
   "cell_type": "code",
   "execution_count": null,
   "metadata": {},
   "outputs": [],
   "source": []
  },
  {
   "cell_type": "markdown",
   "metadata": {},
   "source": [
    "# 5. Define the CNN model architechure"
   ]
  },
  {
   "cell_type": "code",
   "execution_count": 45,
   "metadata": {},
   "outputs": [],
   "source": [
    "from keras.models import Sequential\n",
    "from keras.layers import Convolution2D, MaxPooling2D, Flatten, Dense, Dropout"
   ]
  },
  {
   "cell_type": "code",
   "execution_count": 59,
   "metadata": {},
   "outputs": [
    {
     "name": "stdout",
     "output_type": "stream",
     "text": [
      "Model: \"sequential_4\"\n",
      "_________________________________________________________________\n",
      "Layer (type)                 Output Shape              Param #   \n",
      "=================================================================\n",
      "conv2d_10 (Conv2D)           (None, 32, 32, 16)        208       \n",
      "_________________________________________________________________\n",
      "max_pooling2d_10 (MaxPooling (None, 16, 16, 16)        0         \n",
      "_________________________________________________________________\n",
      "conv2d_11 (Conv2D)           (None, 16, 16, 32)        2080      \n",
      "_________________________________________________________________\n",
      "max_pooling2d_11 (MaxPooling (None, 8, 8, 32)          0         \n",
      "_________________________________________________________________\n",
      "conv2d_12 (Conv2D)           (None, 8, 8, 64)          8256      \n",
      "_________________________________________________________________\n",
      "max_pooling2d_12 (MaxPooling (None, 4, 4, 64)          0         \n",
      "_________________________________________________________________\n",
      "dropout_7 (Dropout)          (None, 4, 4, 64)          0         \n",
      "_________________________________________________________________\n",
      "flatten_4 (Flatten)          (None, 1024)              0         \n",
      "_________________________________________________________________\n",
      "dense_7 (Dense)              (None, 500)               512500    \n",
      "_________________________________________________________________\n",
      "dropout_8 (Dropout)          (None, 500)               0         \n",
      "_________________________________________________________________\n",
      "dense_8 (Dense)              (None, 10)                5010      \n",
      "=================================================================\n",
      "Total params: 528,054\n",
      "Trainable params: 528,054\n",
      "Non-trainable params: 0\n",
      "_________________________________________________________________\n"
     ]
    }
   ],
   "source": [
    "# define the model = Vanila version model ==> params over 3,000,000\n",
    "model = Sequential()\n",
    "model.add(Convolution2D(filters=16, kernel_size=2, padding='same', activation='relu', \n",
    "                        input_shape = (32,32,3)))\n",
    "model.add(MaxPooling2D(pool_size=2))\n",
    "model.add(Convolution2D(filters=32, kernel_size=2, padding='same', activation='relu'))\n",
    "model.add(MaxPooling2D(pool_size=2))\n",
    "model.add(Convolution2D(filters=64, kernel_size=2, padding='same', activation='relu'))\n",
    "model.add(MaxPooling2D(pool_size=2))\n",
    "model.add(Dropout(0.3))\n",
    "model.add(Flatten())\n",
    "model.add(Dense(500, activation='relu'))\n",
    "model.add(Dropout(0.4))\n",
    "model.add(Dense(num_classes, activation='softmax'))\n",
    "model.summary()"
   ]
  },
  {
   "cell_type": "code",
   "execution_count": 47,
   "metadata": {},
   "outputs": [],
   "source": [
    "# complie the model\n",
    "model.compile(loss='categorical_crossentropy',optimizer='rmsprop', metrics=['accuracy'])"
   ]
  },
  {
   "cell_type": "markdown",
   "metadata": {},
   "source": [
    "# WAY2 = General CNN"
   ]
  },
  {
   "cell_type": "code",
   "execution_count": 55,
   "metadata": {},
   "outputs": [
    {
     "name": "stdout",
     "output_type": "stream",
     "text": [
      "Epoch 1/10\n",
      " - 30s - loss: 1.1897 - accuracy: 0.5854 - val_loss: 1.0389 - val_accuracy: 0.6300\n",
      "\n",
      "Epoch 00001: val_loss improved from inf to 1.03895, saving model to MLP.weights.best.hdf5\n",
      "Epoch 2/10\n",
      " - 31s - loss: 1.1760 - accuracy: 0.5924 - val_loss: 1.0147 - val_accuracy: 0.6478\n",
      "\n",
      "Epoch 00002: val_loss improved from 1.03895 to 1.01468, saving model to MLP.weights.best.hdf5\n",
      "Epoch 3/10\n",
      " - 31s - loss: 1.1716 - accuracy: 0.5964 - val_loss: 0.9977 - val_accuracy: 0.6582\n",
      "\n",
      "Epoch 00003: val_loss improved from 1.01468 to 0.99769, saving model to MLP.weights.best.hdf5\n",
      "Epoch 4/10\n",
      " - 28s - loss: 1.1769 - accuracy: 0.5945 - val_loss: 0.9780 - val_accuracy: 0.6558\n",
      "\n",
      "Epoch 00004: val_loss improved from 0.99769 to 0.97796, saving model to MLP.weights.best.hdf5\n",
      "Epoch 5/10\n",
      " - 32s - loss: 1.1811 - accuracy: 0.5927 - val_loss: 1.0333 - val_accuracy: 0.6488\n",
      "\n",
      "Epoch 00005: val_loss did not improve from 0.97796\n",
      "Epoch 6/10\n",
      " - 30s - loss: 1.1897 - accuracy: 0.5942 - val_loss: 0.9633 - val_accuracy: 0.6644\n",
      "\n",
      "Epoch 00006: val_loss improved from 0.97796 to 0.96334, saving model to MLP.weights.best.hdf5\n",
      "Epoch 7/10\n",
      " - 29s - loss: 1.1956 - accuracy: 0.5924 - val_loss: 1.0459 - val_accuracy: 0.6536\n",
      "\n",
      "Epoch 00007: val_loss did not improve from 0.96334\n",
      "Epoch 8/10\n",
      " - 30s - loss: 1.2124 - accuracy: 0.5883 - val_loss: 1.1605 - val_accuracy: 0.5910\n",
      "\n",
      "Epoch 00008: val_loss did not improve from 0.96334\n",
      "Epoch 9/10\n",
      " - 29s - loss: 1.2187 - accuracy: 0.5878 - val_loss: 1.0334 - val_accuracy: 0.6354\n",
      "\n",
      "Epoch 00009: val_loss did not improve from 0.96334\n",
      "Epoch 10/10\n",
      " - 29s - loss: 1.2294 - accuracy: 0.5849 - val_loss: 1.0715 - val_accuracy: 0.6642\n",
      "\n",
      "Epoch 00010: val_loss did not improve from 0.96334\n"
     ]
    }
   ],
   "source": [
    "from keras.callbacks import ModelCheckpoint\n",
    "# train the model\n",
    "checkpointer = ModelCheckpoint(filepath='MLP.weights.best.hdf5',verbose=1,\n",
    "                               save_best_only=True)\n",
    "hist = model.fit_generator(datagen.flow(x_train, y_train, batch_size=32), epochs=10, \n",
    "                           steps_per_epoch=x_train.shape[0]//32, \n",
    "                           validation_data=(x_valid,y_valid), callbacks=[checkpointer],\n",
    "                           verbose=2)"
   ]
  },
  {
   "cell_type": "markdown",
   "metadata": {},
   "source": [
    "# WAY1 = General CNN"
   ]
  },
  {
   "cell_type": "code",
   "execution_count": null,
   "metadata": {},
   "outputs": [],
   "source": [
    "\n",
    "\n",
    "from keras.callbacks import ModelCheckpoint\n",
    "# train the model\n",
    "checkpointer = ModelCheckpoint(filepath='MLP.weights.best.hdf5',verbose=1,\n",
    "                               save_best_only=True)\n",
    "hist2 = model.fit(x_train, y_train, batch_size=32, epochs=10, \n",
    "                 validation_data=(x_valid,y_valid), callbacks=[checkpointer],\n",
    "                 verbose=2, shuffle=True)"
   ]
  },
  {
   "cell_type": "markdown",
   "metadata": {},
   "source": [
    "# 8. Load teh model with the best classification acuracy on the validation set"
   ]
  },
  {
   "cell_type": "code",
   "execution_count": 56,
   "metadata": {},
   "outputs": [],
   "source": [
    "# load the weights that yielded the best validation accuracy\n",
    "model.load_weights('MLP.weights.best.hdf5')"
   ]
  },
  {
   "cell_type": "markdown",
   "metadata": {},
   "source": [
    "# 9. Calculate classification accuracy on test set = 66%"
   ]
  },
  {
   "cell_type": "code",
   "execution_count": 57,
   "metadata": {},
   "outputs": [
    {
     "name": "stdout",
     "output_type": "stream",
     "text": [
      "\n",
      " Test Accuracy= 0.6657999753952026\n"
     ]
    }
   ],
   "source": [
    "# evaluate and print test accuracy\n",
    "score = model.evaluate(x_test, y_test, verbose=0)\n",
    "print('\\n', 'Test Accuracy=',score[1])"
   ]
  },
  {
   "cell_type": "code",
   "execution_count": null,
   "metadata": {},
   "outputs": [],
   "source": []
  },
  {
   "cell_type": "code",
   "execution_count": null,
   "metadata": {},
   "outputs": [],
   "source": []
  }
 ],
 "metadata": {
  "kernelspec": {
   "display_name": "Python 3",
   "language": "python",
   "name": "python3"
  },
  "language_info": {
   "codemirror_mode": {
    "name": "ipython",
    "version": 3
   },
   "file_extension": ".py",
   "mimetype": "text/x-python",
   "name": "python",
   "nbconvert_exporter": "python",
   "pygments_lexer": "ipython3",
   "version": "3.7.7"
  }
 },
 "nbformat": 4,
 "nbformat_minor": 4
}
