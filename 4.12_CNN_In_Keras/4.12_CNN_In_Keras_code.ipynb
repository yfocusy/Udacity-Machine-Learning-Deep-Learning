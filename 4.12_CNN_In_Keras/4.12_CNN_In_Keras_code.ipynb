{
 "cells": [
  {
   "cell_type": "code",
   "execution_count": 4,
   "metadata": {},
   "outputs": [
    {
     "name": "stdout",
     "output_type": "stream",
     "text": [
      "Requirement already satisfied: tensorflow in /usr/local/anaconda3/envs/py35/lib/python3.5/site-packages (2.2.0)\n",
      "Requirement already satisfied: astunparse==1.6.3 in /usr/local/anaconda3/envs/py35/lib/python3.5/site-packages (from tensorflow) (1.6.3)\n",
      "Requirement already satisfied: tensorflow-estimator<2.3.0,>=2.2.0 in /usr/local/anaconda3/envs/py35/lib/python3.5/site-packages (from tensorflow) (2.2.0)\n",
      "Requirement already satisfied: termcolor>=1.1.0 in /usr/local/anaconda3/envs/py35/lib/python3.5/site-packages (from tensorflow) (1.1.0)\n",
      "Requirement already satisfied: tensorboard<2.3.0,>=2.2.0 in /usr/local/anaconda3/envs/py35/lib/python3.5/site-packages (from tensorflow) (2.2.1)\n",
      "Requirement already satisfied: gast==0.3.3 in /usr/local/anaconda3/envs/py35/lib/python3.5/site-packages (from tensorflow) (0.3.3)\n",
      "Requirement already satisfied: opt-einsum>=2.3.2 in /usr/local/anaconda3/envs/py35/lib/python3.5/site-packages (from tensorflow) (3.2.1)\n",
      "Requirement already satisfied: wheel>=0.26; python_version >= \"3\" in /usr/local/anaconda3/envs/py35/lib/python3.5/site-packages (from tensorflow) (0.31.1)\n",
      "Requirement already satisfied: scipy==1.4.1; python_version >= \"3\" in /usr/local/anaconda3/envs/py35/lib/python3.5/site-packages (from tensorflow) (1.4.1)\n",
      "Requirement already satisfied: numpy<2.0,>=1.16.0 in /usr/local/anaconda3/envs/py35/lib/python3.5/site-packages (from tensorflow) (1.18.4)\n",
      "Requirement already satisfied: google-pasta>=0.1.8 in /usr/local/anaconda3/envs/py35/lib/python3.5/site-packages (from tensorflow) (0.2.0)\n",
      "Requirement already satisfied: absl-py>=0.7.0 in /usr/local/anaconda3/envs/py35/lib/python3.5/site-packages (from tensorflow) (0.9.0)\n",
      "Requirement already satisfied: six>=1.12.0 in /usr/local/anaconda3/envs/py35/lib/python3.5/site-packages (from tensorflow) (1.15.0)\n",
      "Requirement already satisfied: h5py<2.11.0,>=2.10.0 in /usr/local/anaconda3/envs/py35/lib/python3.5/site-packages (from tensorflow) (2.10.0)\n",
      "Requirement already satisfied: protobuf>=3.8.0 in /usr/local/anaconda3/envs/py35/lib/python3.5/site-packages (from tensorflow) (3.12.1)\n",
      "Requirement already satisfied: keras-preprocessing>=1.1.0 in /usr/local/anaconda3/envs/py35/lib/python3.5/site-packages (from tensorflow) (1.1.2)\n",
      "Requirement already satisfied: grpcio>=1.8.6 in /usr/local/anaconda3/envs/py35/lib/python3.5/site-packages (from tensorflow) (1.12.1)\n",
      "Requirement already satisfied: wrapt>=1.11.1 in /usr/local/anaconda3/envs/py35/lib/python3.5/site-packages (from tensorflow) (1.12.1)\n",
      "Requirement already satisfied: requests<3,>=2.21.0 in /usr/local/anaconda3/envs/py35/lib/python3.5/site-packages (from tensorboard<2.3.0,>=2.2.0->tensorflow) (2.23.0)\n",
      "Requirement already satisfied: tensorboard-plugin-wit>=1.6.0 in /usr/local/anaconda3/envs/py35/lib/python3.5/site-packages (from tensorboard<2.3.0,>=2.2.0->tensorflow) (1.6.0.post3)\n",
      "Requirement already satisfied: werkzeug>=0.11.15 in /usr/local/anaconda3/envs/py35/lib/python3.5/site-packages (from tensorboard<2.3.0,>=2.2.0->tensorflow) (1.0.1)\n",
      "Requirement already satisfied: google-auth<2,>=1.6.3 in /usr/local/anaconda3/envs/py35/lib/python3.5/site-packages (from tensorboard<2.3.0,>=2.2.0->tensorflow) (1.15.0)\n",
      "Requirement already satisfied: google-auth-oauthlib<0.5,>=0.4.1 in /usr/local/anaconda3/envs/py35/lib/python3.5/site-packages (from tensorboard<2.3.0,>=2.2.0->tensorflow) (0.4.1)\n",
      "Collecting setuptools>=41.0.0 (from tensorboard<2.3.0,>=2.2.0->tensorflow)\n",
      "\u001b[?25l  Downloading https://files.pythonhosted.org/packages/2c/c5/0d38afb961f83e0d51f319f7dc166195ebabc1ea3cb20a10a77f500f7156/setuptools-46.4.0-py3-none-any.whl (583kB)\n",
      "\u001b[K    100% |████████████████████████████████| 583kB 9.1MB/s eta 0:00:01\n",
      "\u001b[?25hRequirement already satisfied: markdown>=2.6.8 in /usr/local/anaconda3/envs/py35/lib/python3.5/site-packages (from tensorboard<2.3.0,>=2.2.0->tensorflow) (2.6.11)\n",
      "Requirement already satisfied: chardet<4,>=3.0.2 in /usr/local/anaconda3/envs/py35/lib/python3.5/site-packages (from requests<3,>=2.21.0->tensorboard<2.3.0,>=2.2.0->tensorflow) (3.0.4)\n",
      "Requirement already satisfied: certifi>=2017.4.17 in /usr/local/anaconda3/envs/py35/lib/python3.5/site-packages (from requests<3,>=2.21.0->tensorboard<2.3.0,>=2.2.0->tensorflow) (2018.8.24)\n",
      "Requirement already satisfied: idna<3,>=2.5 in /usr/local/anaconda3/envs/py35/lib/python3.5/site-packages (from requests<3,>=2.21.0->tensorboard<2.3.0,>=2.2.0->tensorflow) (2.9)\n",
      "Requirement already satisfied: urllib3!=1.25.0,!=1.25.1,<1.26,>=1.21.1 in /usr/local/anaconda3/envs/py35/lib/python3.5/site-packages (from requests<3,>=2.21.0->tensorboard<2.3.0,>=2.2.0->tensorflow) (1.25.9)\n",
      "Requirement already satisfied: rsa<4.1,>=3.1.4 in /usr/local/anaconda3/envs/py35/lib/python3.5/site-packages (from google-auth<2,>=1.6.3->tensorboard<2.3.0,>=2.2.0->tensorflow) (4.0)\n",
      "Requirement already satisfied: cachetools<5.0,>=2.0.0 in /usr/local/anaconda3/envs/py35/lib/python3.5/site-packages (from google-auth<2,>=1.6.3->tensorboard<2.3.0,>=2.2.0->tensorflow) (4.1.0)\n",
      "Requirement already satisfied: pyasn1-modules>=0.2.1 in /usr/local/anaconda3/envs/py35/lib/python3.5/site-packages (from google-auth<2,>=1.6.3->tensorboard<2.3.0,>=2.2.0->tensorflow) (0.2.8)\n",
      "Requirement already satisfied: requests-oauthlib>=0.7.0 in /usr/local/anaconda3/envs/py35/lib/python3.5/site-packages (from google-auth-oauthlib<0.5,>=0.4.1->tensorboard<2.3.0,>=2.2.0->tensorflow) (1.3.0)\n",
      "Requirement already satisfied: pyasn1>=0.1.3 in /usr/local/anaconda3/envs/py35/lib/python3.5/site-packages (from rsa<4.1,>=3.1.4->google-auth<2,>=1.6.3->tensorboard<2.3.0,>=2.2.0->tensorflow) (0.4.8)\n",
      "Requirement already satisfied: oauthlib>=3.0.0 in /usr/local/anaconda3/envs/py35/lib/python3.5/site-packages (from requests-oauthlib>=0.7.0->google-auth-oauthlib<0.5,>=0.4.1->tensorboard<2.3.0,>=2.2.0->tensorflow) (3.1.0)\n",
      "\u001b[31mtensorboard 2.2.1 has requirement grpcio>=1.24.3, but you'll have grpcio 1.12.1 which is incompatible.\u001b[0m\n",
      "\u001b[31mkeras 2.2.2 has requirement keras_preprocessing==1.0.2, but you'll have keras-preprocessing 1.1.2 which is incompatible.\u001b[0m\n",
      "Installing collected packages: setuptools\n",
      "  Found existing installation: setuptools 40.2.0\n",
      "    Uninstalling setuptools-40.2.0:\n",
      "      Successfully uninstalled setuptools-40.2.0\n",
      "Successfully installed setuptools-46.4.0\n",
      "\u001b[33mYou are using pip version 10.0.1, however version 20.2b1 is available.\n",
      "You should consider upgrading via the 'pip install --upgrade pip' command.\u001b[0m\n"
     ]
    }
   ],
   "source": [
    "!pip install tensorflow\n"
   ]
  },
  {
   "cell_type": "code",
   "execution_count": 3,
   "metadata": {
    "scrolled": true
   },
   "outputs": [],
   "source": [
    "from keras.models import Sequential\n",
    "from keras.layers import Conv2D"
   ]
  },
  {
   "cell_type": "code",
   "execution_count": 12,
   "metadata": {},
   "outputs": [],
   "source": [
    "model = Sequential()"
   ]
  },
  {
   "cell_type": "code",
   "execution_count": 13,
   "metadata": {},
   "outputs": [],
   "source": [
    "model.add(Conv2D(filters=16, kernel_size=2, strides=2, padding='valid', \n",
    "    activation='relu', input_shape=(200, 200, 1)))"
   ]
  },
  {
   "cell_type": "code",
   "execution_count": 14,
   "metadata": {},
   "outputs": [
    {
     "name": "stdout",
     "output_type": "stream",
     "text": [
      "Model: \"sequential_3\"\n",
      "_________________________________________________________________\n",
      "Layer (type)                 Output Shape              Param #   \n",
      "=================================================================\n",
      "conv2d_5 (Conv2D)            (None, 100, 100, 16)      80        \n",
      "=================================================================\n",
      "Total params: 80\n",
      "Trainable params: 80\n",
      "Non-trainable params: 0\n",
      "_________________________________________________________________\n"
     ]
    }
   ],
   "source": [
    "model.summary()"
   ]
  },
  {
   "cell_type": "code",
   "execution_count": 2,
   "metadata": {},
   "outputs": [],
   "source": []
  },
  {
   "cell_type": "code",
   "execution_count": null,
   "metadata": {},
   "outputs": [],
   "source": []
  },
  {
   "cell_type": "code",
   "execution_count": null,
   "metadata": {},
   "outputs": [],
   "source": []
  },
  {
   "cell_type": "code",
   "execution_count": null,
   "metadata": {},
   "outputs": [],
   "source": []
  },
  {
   "cell_type": "code",
   "execution_count": null,
   "metadata": {},
   "outputs": [],
   "source": []
  },
  {
   "cell_type": "code",
   "execution_count": null,
   "metadata": {},
   "outputs": [],
   "source": []
  },
  {
   "cell_type": "code",
   "execution_count": null,
   "metadata": {},
   "outputs": [],
   "source": []
  },
  {
   "cell_type": "code",
   "execution_count": null,
   "metadata": {},
   "outputs": [],
   "source": []
  },
  {
   "cell_type": "code",
   "execution_count": null,
   "metadata": {},
   "outputs": [],
   "source": []
  },
  {
   "cell_type": "code",
   "execution_count": null,
   "metadata": {},
   "outputs": [],
   "source": []
  },
  {
   "cell_type": "code",
   "execution_count": null,
   "metadata": {},
   "outputs": [],
   "source": []
  },
  {
   "cell_type": "code",
   "execution_count": null,
   "metadata": {},
   "outputs": [],
   "source": []
  }
 ],
 "metadata": {
  "kernelspec": {
   "display_name": "Python 3",
   "language": "python",
   "name": "python3"
  },
  "language_info": {
   "codemirror_mode": {
    "name": "ipython",
    "version": 3
   },
   "file_extension": ".py",
   "mimetype": "text/x-python",
   "name": "python",
   "nbconvert_exporter": "python",
   "pygments_lexer": "ipython3",
   "version": "3.7.7"
  }
 },
 "nbformat": 4,
 "nbformat_minor": 4
}
